{
  "cells": [
    {
      "cell_type": "code",
      "execution_count": 1,
      "id": "68ffd726",
      "metadata": {
        "id": "68ffd726",
        "outputId": "de6f5e5f-edf4-415b-8cb7-7c62c6e29d88",
        "colab": {
          "base_uri": "https://localhost:8080/"
        }
      },
      "outputs": [
        {
          "output_type": "stream",
          "name": "stdout",
          "text": [
            "[1 2 3 4 5]\n"
          ]
        }
      ],
      "source": [
        "import numpy as np\n",
        "a=np.array([1,2,3,4,5])\n",
        "print(a)"
      ]
    },
    {
      "cell_type": "code",
      "execution_count": 3,
      "id": "be003d57",
      "metadata": {
        "id": "be003d57",
        "outputId": "ae84dc0c-fb69-4d01-a2d6-a934ab27c712",
        "colab": {
          "base_uri": "https://localhost:8080/"
        }
      },
      "outputs": [
        {
          "output_type": "stream",
          "name": "stdout",
          "text": [
            "[[1 2 3 4]\n",
            " [5 6 7 8]]\n"
          ]
        }
      ],
      "source": [
        "import numpy as np\n",
        "a=np.array([[1,2,3,4],[5,6,7,8]])\n",
        "print(a)"
      ]
    },
    {
      "cell_type": "code",
      "execution_count": 5,
      "id": "2519c558",
      "metadata": {
        "id": "2519c558",
        "outputId": "464522be-d7b3-48f4-e5ad-0ad28767a4c3",
        "colab": {
          "base_uri": "https://localhost:8080/"
        }
      },
      "outputs": [
        {
          "output_type": "stream",
          "name": "stdout",
          "text": [
            "[[0. 0. 0. 0.]\n",
            " [0. 0. 0. 0.]]\n"
          ]
        }
      ],
      "source": [
        "import numpy as np\n",
        "a=np.zeros((2,4))\n",
        "print(a)"
      ]
    },
    {
      "cell_type": "code",
      "execution_count": null,
      "id": "e6d01a1d",
      "metadata": {
        "id": "e6d01a1d",
        "outputId": "a196d7f9-20d1-4fcf-b28f-e5a07355393f",
        "colab": {
          "base_uri": "https://localhost:8080/"
        }
      },
      "outputs": [
        {
          "output_type": "stream",
          "name": "stdout",
          "text": [
            "\n",
            " array with random values \n",
            " [[0.24494589 0.68943763 0.65297137]\n",
            " [0.78825523 0.52887444 0.25750109]]\n"
          ]
        }
      ],
      "source": [
        "import numpy as np\n",
        "s=np.random.random([2,3])\n",
        "print(\"\\n array with random values \\n\",s)"
      ]
    },
    {
      "cell_type": "code",
      "execution_count": 8,
      "id": "4854ffcf",
      "metadata": {
        "id": "4854ffcf",
        "outputId": "83f9e653-35e6-45f2-99e7-857f02808488",
        "colab": {
          "base_uri": "https://localhost:8080/"
        }
      },
      "outputs": [
        {
          "output_type": "stream",
          "name": "stdout",
          "text": [
            "[[1 2 3 4]\n",
            " [5 6 7 8]\n",
            " [1 2 0 1]]\n",
            "[[1 2 3]\n",
            " [4 5 6]\n",
            " [7 8 1]\n",
            " [2 0 1]]\n"
          ]
        }
      ],
      "source": [
        "import numpy as np\n",
        "arr=np.array([[1,2,3,4],[5,6,7,8],[1,2,0,1]])\n",
        "newarr=arr.reshape(4,3)\n",
        "print(arr)\n",
        "print(newarr)"
      ]
    },
    {
      "cell_type": "code",
      "execution_count": 10,
      "id": "4a1bdd24",
      "metadata": {
        "id": "4a1bdd24",
        "outputId": "5f2acb6c-655a-47c7-8a22-4e7cd0e406dd",
        "colab": {
          "base_uri": "https://localhost:8080/"
        }
      },
      "outputs": [
        {
          "output_type": "stream",
          "name": "stdout",
          "text": [
            "[[1 2 3 4]\n",
            " [5 6 7 8]\n",
            " [1 2 0 1]]\n",
            "[1 2 3 4 5 6 7 8 1 2 0 1]\n"
          ]
        }
      ],
      "source": [
        "import numpy as op\n",
        "flat=arr.flatten()\n",
        "print(arr)\n",
        "print(flat)"
      ]
    },
    {
      "cell_type": "code",
      "execution_count": null,
      "id": "0c5252e7",
      "metadata": {
        "id": "0c5252e7",
        "colab": {
          "base_uri": "https://localhost:8080/"
        },
        "outputId": "b9099e4c-5f32-4d6b-a774-0d2d137be59c"
      },
      "outputs": [
        {
          "output_type": "stream",
          "name": "stdout",
          "text": [
            "2\n"
          ]
        }
      ],
      "source": [
        "print(a.ndim)"
      ]
    },
    {
      "cell_type": "code",
      "source": [
        "print(a.shape)"
      ],
      "metadata": {
        "colab": {
          "base_uri": "https://localhost:8080/"
        },
        "id": "DuOi7zg9Ekec",
        "outputId": "0feba1c7-b145-4214-a9f5-195b509327a2"
      },
      "id": "DuOi7zg9Ekec",
      "execution_count": 11,
      "outputs": [
        {
          "output_type": "stream",
          "name": "stdout",
          "text": [
            "(3, 4)\n"
          ]
        }
      ]
    },
    {
      "cell_type": "code",
      "source": [
        "print(a.dtype)"
      ],
      "metadata": {
        "colab": {
          "base_uri": "https://localhost:8080/"
        },
        "id": "wrCvrMYHEvds",
        "outputId": "d57e4b28-2246-412a-edd0-b1de03eaf55a"
      },
      "id": "wrCvrMYHEvds",
      "execution_count": 12,
      "outputs": [
        {
          "output_type": "stream",
          "name": "stdout",
          "text": [
            "int64\n"
          ]
        }
      ]
    },
    {
      "cell_type": "code",
      "source": [
        "print(a.size)"
      ],
      "metadata": {
        "colab": {
          "base_uri": "https://localhost:8080/"
        },
        "id": "JtFKHnfQE4Em",
        "outputId": "ea386f05-6f67-47f5-971f-119647f823ac"
      },
      "id": "JtFKHnfQE4Em",
      "execution_count": 13,
      "outputs": [
        {
          "output_type": "stream",
          "name": "stdout",
          "text": [
            "12\n"
          ]
        }
      ]
    },
    {
      "cell_type": "code",
      "source": [
        "newtype=arr.astype('f')\n",
        "print(\"\\n convert array:\\n\",newtype)\n",
        "print(\"\\n convert array type:\\n\",newtype.dtype)"
      ],
      "metadata": {
        "colab": {
          "base_uri": "https://localhost:8080/"
        },
        "id": "5BuzHcxCE-aq",
        "outputId": "add20494-3df3-43cb-80c5-746539cd91d2"
      },
      "id": "5BuzHcxCE-aq",
      "execution_count": 15,
      "outputs": [
        {
          "output_type": "stream",
          "name": "stdout",
          "text": [
            "\n",
            " convert array:\n",
            " [[1. 2. 3. 4.]\n",
            " [5. 6. 7. 8.]\n",
            " [1. 2. 0. 1.]]\n",
            "\n",
            " convert array type:\n",
            " float32\n"
          ]
        }
      ]
    },
    {
      "cell_type": "code",
      "source": [
        "size=len(arr)\n",
        "print(size)"
      ],
      "metadata": {
        "colab": {
          "base_uri": "https://localhost:8080/"
        },
        "id": "GxGMrMR4FH0o",
        "outputId": "6d779ff6-99a9-4a83-c358-a3d446c65efa"
      },
      "id": "GxGMrMR4FH0o",
      "execution_count": 17,
      "outputs": [
        {
          "output_type": "stream",
          "name": "stdout",
          "text": [
            "3\n"
          ]
        }
      ]
    }
  ],
  "metadata": {
    "kernelspec": {
      "display_name": "Python 3 (ipykernel)",
      "language": "python",
      "name": "python3"
    },
    "language_info": {
      "codemirror_mode": {
        "name": "ipython",
        "version": 3
      },
      "file_extension": ".py",
      "mimetype": "text/x-python",
      "name": "python",
      "nbconvert_exporter": "python",
      "pygments_lexer": "ipython3",
      "version": "3.11.5"
    },
    "colab": {
      "provenance": []
    }
  },
  "nbformat": 4,
  "nbformat_minor": 5
}